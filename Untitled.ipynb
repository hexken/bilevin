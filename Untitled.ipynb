{
 "cells": [
  {
   "cell_type": "code",
   "execution_count": null,
   "id": "8f83126b-3523-41e7-a6a4-0367cdfab9d8",
   "metadata": {},
   "outputs": [],
   "source": [
    "import pickle as pkl\n",
    "from pathlib import Path"
   ]
  },
  {
   "cell_type": "code",
   "execution_count": null,
   "id": "9b4be7ea-6343-41f3-b336-7fce0bfae3f2",
   "metadata": {},
   "outputs": [],
   "source": [
    "d = Path(\"problems/lelis/stp5/test-1000.pkl\").open(\"rb)\n",
    "d = pkl.load(d)"
   ]
  },
  {
   "cell_type": "code",
   "execution_count": null,
   "id": "a730b785-7a38-4c56-b811-45978dad34a5",
   "metadata": {},
   "outputs": [],
   "source": [
    "d"
   ]
  }
 ],
 "metadata": {
  "kernelspec": {
   "display_name": "bilevin-venv",
   "language": "python",
   "name": "bilevin-venv"
  },
  "language_info": {
   "name": ""
  }
 },
 "nbformat": 4,
 "nbformat_minor": 5
}
