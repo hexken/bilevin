{
 "cells": [
  {
   "cell_type": "code",
   "execution_count": null,
   "id": "3bfadc70-f8bf-482e-be90-53298f98a7e3",
   "metadata": {},
   "outputs": [],
   "source": [
    "import matplotlib.pyplot as plt\n",
    "import pandas as pd\n",
    "from io import StringIO\n",
    "import numpy as np\n",
    "from pathlib import Path\n",
    "colors = [\"b\", \"g\", \"r\", \"y\"]"
   ]
  },
  {
   "cell_type": "code",
   "execution_count": null,
   "id": "8e93dcc1-1cf8-4628-a5df-c841d1a3f2a0",
   "metadata": {},
   "outputs": [],
   "source": [
    "solved_vs_time_data = {}\n",
    "for file in sorted(Path.cwd().glob(\"*Witness*\")):\n",
    "    name = str(file.stem)\n",
    "    solved_vs_time_data[name] = pd.read_csv(file)"
   ]
  },
  {
   "cell_type": "code",
   "execution_count": null,
   "id": "626cc75a-b996-4eb5-ae64-773c4834a032",
   "metadata": {},
   "outputs": [],
   "source": [
    "fig, ax = plt.subplots(figsize=(6,4), constrained_layout=True)\n",
    "plt.xscale(\"linear\")\n",
    "plt.xticks\n",
    "plt.title(\"Problems vs. Rel. Wall Time\")\n",
    "plt.xlabel(\"Relative wall time (s)\")\n",
    "plt.ylabel(\"Unique problems\\n solved\", rotation=0, labelpad=50)\n",
    "for i, (name, data) in enumerate(solved_vs_time_data.items()):\n",
    "    name = name.split(\"_\")\n",
    "    label = name[1].split(\"-\")[0] + \" \" + name[2]\n",
    "    xs = data[\"Wall time\"] - data[\"Wall time\"].min()\n",
    "    ax.plot(xs, data[\"Value\"], label=label, color=colors[i])\n",
    "ax.legend(loc=\"lower right\")\n",
    "plt.savefig(\"solved_vs_time.jpg\", dpi=192, transparent=False)"
   ]
  },
  {
   "cell_type": "code",
   "execution_count": null,
   "id": "933fcc25-e0bb-45b6-8a14-5b09d7cb2aed",
   "metadata": {},
   "outputs": [],
   "source": [
    "epoch_data = {}\n",
    "for pth in Path(\"../wit_4w4c_tb/\").glob(\"*\"):\n",
    "    run_name = str(pth.stem)\n",
    "    epochs = [pd.read_csv(ep)  for ep in pth.glob(\"*epoch*.csv\")]\n",
    "    epoch_data[run_name] = epochs"
   ]
  },
  {
   "cell_type": "code",
   "execution_count": null,
   "id": "a7a6bab8-6153-47e8-b479-d42905501ad2",
   "metadata": {},
   "outputs": [],
   "source": [
    "runs = {}\n",
    "for d in sorted(Path(\"../wit_4w4c_tb/\").iterdir()):\n",
    "    run_name = str(d.stem)\n",
    "    outputs = (d / \"output.txt\").open(\"r\").readlines()\n",
    "    outputs = [l.lstrip(\"|\").replace(\"|\\n\",\"\").replace(\" \",\"\") for l in outputs if l.startswith(\"| \")]\n",
    "    runs[run_name] = outputs"
   ]
  },
  {
   "cell_type": "code",
   "execution_count": null,
   "id": "c5c676fc-5eec-4793-8159-b7e733c134aa",
   "metadata": {},
   "outputs": [],
   "source": [
    "plot_data = {}\n",
    "for run_name, data in runs.items():\n",
    "    solved = set()\n",
    "    num_expanded_this_batch = 0\n",
    "    total_expansions = 0\n",
    "    xs = []\n",
    "    ys = []\n",
    "    first_row = True\n",
    "    # since we don't process the a batch until encountering the next batches header\n",
    "    data.append('P')\n",
    "    for row in data:\n",
    "        if row[0] == \"P\": # new batch\n",
    "            if not first_row: # at least one batch has been processed\n",
    "                total_expansions += num_expanded_this_batch\n",
    "                ys.append(len(solved))\n",
    "                xs.append(total_expansions)\n",
    "                num_expanded_this_batch = 0\n",
    "            else:\n",
    "                first_row = False\n",
    "            continue\n",
    "        \n",
    "        # 'ProblemId|SolutionLength|NumExpanded|NumGenerated|Time'\n",
    "        row_data = row.split(\"|\")\n",
    "        \n",
    "        problem_id = int(row_data[0])\n",
    "        problem_solved = int(row_data[1]) > 0\n",
    "        if problem_solved and problem_id not in solved:\n",
    "            solved.add(problem_id)\n",
    "            \n",
    "        num_expanded = int(row_data[2])\n",
    "        num_expanded_this_batch += num_expanded\n",
    "        \n",
    "        idx_in_batch += 1\n",
    "    plot_data[run_name] = {\"xs\": xs, \"ys\": ys}"
   ]
  },
  {
   "cell_type": "code",
   "execution_count": null,
   "id": "5fc35921-6571-4c4a-ab01-acb60f87e9c2",
   "metadata": {},
   "outputs": [],
   "source": [
    "for scale in [\"log\", \"linear\"]:\n",
    "    fig, ax = plt.subplots(figsize=(6,4), constrained_layout=True)\n",
    "    plt.xscale(scale)\n",
    "    ax.set_facecolor(\"white\")\n",
    "    ax.yaxis.set_figure\n",
    "    plt.title(f\"Problems Solved vs. ({scale}) Nodes Expanded\")\n",
    "    plt.xlabel(\"Nodes expanded\")\n",
    "    plt.ylabel(\"Unique problems\\n solved\", rotation=0, labelpad=50)\n",
    "    for i, (name, data) in enumerate(plot_data.items()):\n",
    "        name = name.split(\"_\")\n",
    "        label = name[1].split(\"-\")[0] + \" \" + name[2]\n",
    "        ax.plot(data[\"xs\"], data[\"ys\"], label=label, color=colors[i])\n",
    "    plt.legend(loc=\"lower right\")\n",
    "    plt.savefig(f\"solved_vs_{scale}_expanded.jpg\", dpi=192, transparent=False)"
   ]
  }
 ],
 "metadata": {
  "kernelspec": {
   "display_name": "Python 3 (ipykernel)",
   "language": "python",
   "name": "python3"
  },
  "language_info": {
   "codemirror_mode": {
    "name": "ipython",
    "version": 3
   },
   "file_extension": ".py",
   "mimetype": "text/x-python",
   "name": "python",
   "nbconvert_exporter": "python",
   "pygments_lexer": "ipython3",
   "version": "3.10.2"
  }
 },
 "nbformat": 4,
 "nbformat_minor": 5
}
